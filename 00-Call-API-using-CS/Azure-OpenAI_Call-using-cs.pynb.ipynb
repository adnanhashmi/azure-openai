{
 "cells": [
  {
   "attachments": {},
   "cell_type": "markdown",
   "metadata": {},
   "source": [
    "April 17, 2023\n",
    "\n",
    "This Polyglot notebook C# code written using Visual Studio Code connects to the Azure OpenAI API, sends sample text prompts, and displays the returned text as outputs.\n",
    "\n",
    "Download Polyglot Extension (formerly .NET Interactive) from here: https://marketplace.visualstudio.com/items?itemName=ms-dotnettools.dotnet-interactive-vscode\n",
    "\n",
    "Also refer to https://code.visualstudio.com/docs/languages/polyglot\n",
    "\n",
    "Azure OpenAI API reference: https://learn.microsoft.com/en-us/azure/cognitive-services/openai/reference"
   ]
  },
  {
   "attachments": {},
   "cell_type": "markdown",
   "metadata": {},
   "source": [
    "### Packages"
   ]
  },
  {
   "cell_type": "code",
   "execution_count": null,
   "metadata": {
    "dotnet_interactive": {
     "language": "csharp"
    },
    "polyglot_notebook": {
     "kernelName": "csharp"
    }
   },
   "outputs": [],
   "source": [
    "// https://www.nuget.org/packages/Azure.AI.OpenAI/\n",
    "#r \"nuget: Azure.AI.OpenAI, 1.0.0-beta.5\""
   ]
  },
  {
   "cell_type": "code",
   "execution_count": null,
   "metadata": {
    "dotnet_interactive": {
     "language": "csharp"
    },
    "polyglot_notebook": {
     "kernelName": "csharp"
    }
   },
   "outputs": [],
   "source": [
    "using System;\n",
    "using static System.Environment;\n",
    "using Azure;\n",
    "using Azure.AI.OpenAI;"
   ]
  },
  {
   "attachments": {},
   "cell_type": "markdown",
   "metadata": {},
   "source": [
    "### Constants"
   ]
  },
  {
   "cell_type": "code",
   "execution_count": null,
   "metadata": {
    "dotnet_interactive": {
     "language": "csharp"
    },
    "polyglot_notebook": {
     "kernelName": "csharp"
    }
   },
   "outputs": [],
   "source": [
    "const string OPENAI_URL = \"https://[SvcName].openai.azure.com/\";\n",
    "const string OPENAI_MODEL = \"[ModelName]\";\n",
    "const string ENV_VAR_NAME_OPENAI_API_KEY = \"OpenAIKey\";\n",
    "\n",
    "const EnvironmentVariableTarget ARG_ENV_VAR_TARGET = EnvironmentVariableTarget.User;"
   ]
  },
  {
   "attachments": {},
   "cell_type": "markdown",
   "metadata": {},
   "source": [
    "### Access Environment Variable"
   ]
  },
  {
   "cell_type": "code",
   "execution_count": null,
   "metadata": {
    "dotnet_interactive": {
     "language": "csharp"
    },
    "polyglot_notebook": {
     "kernelName": "csharp"
    }
   },
   "outputs": [],
   "source": [
    "string OPENAI_API_KEY = \"\"; // Initialization with empty string value\n",
    "OPENAI_API_KEY = GetEnvironmentVariable(ENV_VAR_NAME_OPENAI_API_KEY, ARG_ENV_VAR_TARGET); // Get API from environment variable\n",
    "// SetEnvironmentVariable(ENV_VAR_NAME_OPENAI_API_KEY, OPENAI_API_KEY, ARG_ENV_VAR_TARGET);"
   ]
  },
  {
   "attachments": {},
   "cell_type": "markdown",
   "metadata": {},
   "source": [
    "### Create an array of prompts"
   ]
  },
  {
   "cell_type": "code",
   "execution_count": null,
   "metadata": {
    "dotnet_interactive": {
     "language": "csharp"
    },
    "polyglot_notebook": {
     "kernelName": "csharp"
    }
   },
   "outputs": [],
   "source": [
    "var client = new OpenAIClient(new Uri(OPENAI_URL), new AzureKeyCredential(OPENAI_API_KEY));\n",
    "\n",
    "List<string> examplePrompts = new() {\n",
    "    \"What is the capital city of Pakistan?\",\n",
    "    \"List 3 of Pakistan's cities.\",\n",
    "    \"What is the name of the team crowned champion in the latest Pakistan Super League (PSL) tournament?\",\n",
    "};\n",
    "\n",
    "string deploymentName = OPENAI_MODEL;"
   ]
  },
  {
   "attachments": {},
   "cell_type": "markdown",
   "metadata": {},
   "source": [
    "### Loop through the array and call the API for each prompt"
   ]
  },
  {
   "cell_type": "code",
   "execution_count": null,
   "metadata": {
    "dotnet_interactive": {
     "language": "csharp"
    },
    "polyglot_notebook": {
     "kernelName": "csharp"
    }
   },
   "outputs": [],
   "source": [
    "foreach (string prompt in examplePrompts)\n",
    "{\n",
    "    Console.Write($\"Prompt: {prompt}\");\n",
    "    CompletionsOptions completionsOptions = new CompletionsOptions();\n",
    "    completionsOptions.Prompts.Add(prompt);\n",
    "\n",
    "    Response<Completions> completionsResponse = client.GetCompletions(deploymentName, completionsOptions);\n",
    "    string completion = completionsResponse.Value.Choices[0].Text;\n",
    "    Console.WriteLine($\"\\nResponse: {completion}\");\n",
    "}"
   ]
  }
 ],
 "metadata": {
  "kernelspec": {
   "display_name": ".NET (C#)",
   "language": "C#",
   "name": ".net-csharp"
  },
  "language_info": {
   "name": "polyglot-notebook"
  },
  "polyglot_notebook": {
   "kernelInfo": {
    "defaultKernelName": "csharp",
    "items": [
     {
      "aliases": [],
      "languageName": "csharp",
      "name": "csharp"
     }
    ]
   }
  }
 },
 "nbformat": 4,
 "nbformat_minor": 2
}
