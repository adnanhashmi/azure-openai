{
 "cells": [
  {
   "attachments": {},
   "cell_type": "markdown",
   "metadata": {},
   "source": [
    "May 17, 2023\n",
    "\n",
    "# Summarization using Semantic Kernel\n",
    "\n",
    "This Polyglot notebook C# code written using Visual Studio Code invokes the Semantic Kernel library/SDK Summary skill to summarize a body of text.\n",
    "\n",
    "GitHub: https://aka.ms/sk/repo\n",
    "\n",
    "Blog: https://aka.ms/semantic-kernel\n",
    "\n",
    "Documentation: https://learn.microsoft.com/en-us/semantic-kernel\n",
    "\n",
    "Post on summarization: https://devblogs.microsoft.com/semantic-kernel/use-the-summarize-skill-to-create-concise-and-actionable-chat-summaries/\n",
    "\n",
    "## 1. Kernel"
   ]
  },
  {
   "attachments": {},
   "cell_type": "markdown",
   "metadata": {},
   "source": [
    "### 1.1 Nuget"
   ]
  },
  {
   "cell_type": "code",
   "execution_count": null,
   "metadata": {
    "dotnet_interactive": {
     "language": "csharp"
    },
    "polyglot_notebook": {
     "kernelName": "csharp"
    }
   },
   "outputs": [],
   "source": [
    "//https://www.nuget.org/packages/Microsoft.SemanticKernel/0.14.547.1-preview\n",
    "#r \"nuget: Microsoft.SemanticKernel, 0.14.547.1-preview\""
   ]
  },
  {
   "attachments": {},
   "cell_type": "markdown",
   "metadata": {},
   "source": [
    "### 1.2 .NET includes"
   ]
  },
  {
   "cell_type": "code",
   "execution_count": null,
   "metadata": {
    "dotnet_interactive": {
     "language": "csharp"
    },
    "polyglot_notebook": {
     "kernelName": "csharp"
    }
   },
   "outputs": [],
   "source": [
    "using System.IO;\n",
    "using static System.Environment;\n",
    "using Microsoft.SemanticKernel;\n",
    "using Microsoft.SemanticKernel.SemanticFunctions;"
   ]
  },
  {
   "attachments": {},
   "cell_type": "markdown",
   "metadata": {},
   "source": [
    "### 1.3 Kernel instantiation"
   ]
  },
  {
   "cell_type": "code",
   "execution_count": null,
   "metadata": {
    "dotnet_interactive": {
     "language": "csharp"
    },
    "polyglot_notebook": {
     "kernelName": "csharp"
    }
   },
   "outputs": [],
   "source": [
    "IKernel objKernel = Kernel.Builder.Build();"
   ]
  },
  {
   "attachments": {},
   "cell_type": "markdown",
   "metadata": {},
   "source": [
    "## 2. Planner\n",
    "\n",
    "### 2.0 Specify endpoint and prompt setting values"
   ]
  },
  {
   "cell_type": "code",
   "execution_count": null,
   "metadata": {
    "dotnet_interactive": {
     "language": "csharp"
    },
    "polyglot_notebook": {
     "kernelName": "csharp"
    }
   },
   "outputs": [],
   "source": [
    "// Azure OpenAI API endpoint\n",
    "const string OPENAI_URL = \"https://[SvcName].openai.azure.com/\";\n",
    "const string OPENAI_MODEL = \"[ModelName]\";\n",
    "const string ENV_VAR_NAME_OPENAI_API_KEY = \"OpenAIKey\";\n",
    "\n",
    "const EnvironmentVariableTarget ARG_ENV_VAR_TARGET = EnvironmentVariableTarget.User;\n",
    "\n",
    "string OPENAI_API_KEY = \"\"; // Initialization with empty string value\n",
    "OPENAI_API_KEY = GetEnvironmentVariable(ENV_VAR_NAME_OPENAI_API_KEY, ARG_ENV_VAR_TARGET); // Get API key from environment variable\n",
    "\n",
    "// Prompt configuration settings\n",
    "var settingMaxTokens = 500; // API call charged for tokens consumed\n",
    "var settingTemperature = 0.2; // Possible values between 0 and 1; Lower the value, the more the answer is accurate\n",
    "var settingTopP = 0.5; // Possible values between 0 and 1; Zero is 'Smaller Vocabulary', One is for 'Larger  Vocabulary'\n",
    "\n",
    "// Source: https://aka.ms/sk/repo/summarize\n",
    "string strSkillDirectory = \"skills\"; // Parent folder name\n",
    "string strSkillName = \"SummarizeSkill\"; // Folder name\n",
    "string strFunctionName = \"Summarize\"; // Sub-folder name\n",
    "\n",
    "var objSkill = objKernel.ImportSemanticSkillFromDirectory(strSkillDirectory, strSkillName);"
   ]
  },
  {
   "attachments": {},
   "cell_type": "markdown",
   "metadata": {},
   "source": [
    "### 2.1 Semantic Function or Prompt Template"
   ]
  },
  {
   "cell_type": "code",
   "execution_count": null,
   "metadata": {
    "dotnet_interactive": {
     "language": "csharp"
    },
    "polyglot_notebook": {
     "kernelName": "csharp"
    }
   },
   "outputs": [],
   "source": [
    "// Used in cell 2.2b\n",
    "string strSemanticFunctionTemplate = \"\"\"\n",
    "{{$input}}\n",
    "\n",
    "Summarize the text content above in under 200 characters.\n",
    "\"\"\";\n",
    "\n",
    "Console.WriteLine(\"Semantic Function defined successfully.\");"
   ]
  },
  {
   "attachments": {},
   "cell_type": "markdown",
   "metadata": {},
   "source": [
    "Cells 2.2a and 2.2b are mutually exclusive; only one should occur at a time.\n",
    "\n",
    "### 2.2a Call semantic function using a prompt-template"
   ]
  },
  {
   "cell_type": "code",
   "execution_count": null,
   "metadata": {
    "dotnet_interactive": {
     "language": "csharp"
    },
    "polyglot_notebook": {
     "kernelName": "csharp"
    }
   },
   "outputs": [],
   "source": [
    "using Microsoft.SemanticKernel.SemanticFunctions;\n",
    "\n",
    "var promptSettings = new PromptTemplateConfig\n",
    "{\n",
    "    Completion =\n",
    "    {\n",
    "        MaxTokens = settingMaxTokens, \n",
    "        Temperature = settingTemperature, \n",
    "        TopP = settingTopP\n",
    "    }\n",
    "};\n",
    "\n",
    "var promptTemplate = new PromptTemplate(\n",
    "    strSemanticFunctionTemplate, \n",
    "    promptSettings, \n",
    "    objKernel\n",
    ");\n",
    "\n",
    "var functionConfig = new SemanticFunctionConfig(promptSettings, promptTemplate);\n",
    "var summaryFunction = objKernel.RegisterSemanticFunction(strSkillName, strFunctionName, functionConfig);\n",
    "Console.WriteLine(\"Semantic function registered successfully.\");"
   ]
  },
  {
   "attachments": {},
   "cell_type": "markdown",
   "metadata": {},
   "source": [
    "### 2.2b Get reference to the summary function in skill"
   ]
  },
  {
   "cell_type": "code",
   "execution_count": null,
   "metadata": {
    "dotnet_interactive": {
     "language": "csharp"
    },
    "polyglot_notebook": {
     "kernelName": "csharp"
    }
   },
   "outputs": [],
   "source": [
    "using Microsoft.SemanticKernel.Orchestration;\n",
    "var objSkill = objKernel.ImportSemanticSkillFromDirectory(strSkillDirectory, strSkillName);\n",
    "\n",
    "string strVarName = \"input\"; \n",
    "// Source: Wikipedia\n",
    "string strText = \"Pakistan is a country in South Asia. It is the world's fifth-most populous country, with a population of almost 243 million people, and has the world's second-largest Muslim population, just behind Indonesia.[16] Islamabad is the nation's capital, while Karachi is its largest city and financial centre, followed by Lahore and Faisalabad. Pakistan is the 33rd-largest country in the world by area and the second-largest in South Asia, spanning 881,913 square kilometres (340,509 square miles). It has a 1,046-kilometre (650-mile) coastline along the Arabian Sea and Gulf of Oman in the south, Afghanistan to the west, Iran to the southwest, and China to the northeast. It is separated narrowly from Tajikistan by Afghanistan's Wakhan Corridor in the north, and also shares a maritime border with Oman.\";\n",
    "\n",
    "var contextVars = new ContextVariables(); \n",
    "contextVars.Set(strVarName, strText); "
   ]
  },
  {
   "attachments": {},
   "cell_type": "markdown",
   "metadata": {},
   "source": [
    "## 3. Skill"
   ]
  },
  {
   "cell_type": "code",
   "execution_count": null,
   "metadata": {
    "dotnet_interactive": {
     "language": "csharp"
    },
    "polyglot_notebook": {
     "kernelName": "csharp"
    }
   },
   "outputs": [],
   "source": [
    "// Call the Skill function and display the result\n",
    "var result = await objKernel.RunAsync(contextVars, objSkill[strFunctionName]);\n",
    "Console.WriteLine(result);"
   ]
  },
  {
   "attachments": {},
   "cell_type": "markdown",
   "metadata": {},
   "source": [
    "## 4. Memories"
   ]
  },
  {
   "cell_type": "code",
   "execution_count": null,
   "metadata": {
    "dotnet_interactive": {
     "language": "csharp"
    },
    "polyglot_notebook": {
     "kernelName": "csharp"
    }
   },
   "outputs": [],
   "source": [
    "// No Code"
   ]
  },
  {
   "attachments": {},
   "cell_type": "markdown",
   "metadata": {},
   "source": [
    "## 5. Connectors"
   ]
  },
  {
   "cell_type": "code",
   "execution_count": null,
   "metadata": {
    "dotnet_interactive": {
     "language": "csharp"
    },
    "polyglot_notebook": {
     "kernelName": "csharp"
    }
   },
   "outputs": [],
   "source": [
    "// No Code"
   ]
  }
 ],
 "metadata": {
  "kernelspec": {
   "display_name": ".NET (C#)",
   "language": "C#",
   "name": ".net-csharp"
  },
  "language_info": {
   "name": "polyglot-notebook"
  },
  "polyglot_notebook": {
   "kernelInfo": {
    "defaultKernelName": "csharp",
    "items": [
     {
      "aliases": [],
      "languageName": "csharp",
      "name": "csharp"
     }
    ]
   }
  }
 },
 "nbformat": 4,
 "nbformat_minor": 2
}
